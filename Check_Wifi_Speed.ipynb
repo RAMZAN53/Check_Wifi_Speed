{
  "nbformat": 4,
  "nbformat_minor": 0,
  "metadata": {
    "colab": {
      "provenance": []
    },
    "kernelspec": {
      "name": "python3",
      "display_name": "Python 3"
    },
    "language_info": {
      "name": "python"
    }
  },
  "cells": [
    {
      "cell_type": "code",
      "execution_count": 3,
      "metadata": {
        "colab": {
          "base_uri": "https://localhost:8080/"
        },
        "id": "eTJjSVCBpo41",
        "outputId": "ffdea5f0-92e6-4de1-c127-861667b8f302"
      },
      "outputs": [
        {
          "output_type": "stream",
          "name": "stdout",
          "text": [
            "Requirement already satisfied: speedtest-cli in /usr/local/lib/python3.11/dist-packages (2.1.3)\n",
            "Retrieving speedtest.net configuration...\n",
            "Cannot retrieve speedtest configuration\n",
            "ERROR: HTTP Error 403: Forbidden\n"
          ]
        }
      ],
      "source": [
        "!pip install speedtest-cli\n",
        "!speedtest-cli"
      ]
    },
    {
      "cell_type": "code",
      "source": [
        "import speedtest\n",
        "\n",
        "def Check_Speed():\n",
        "    st = speedtest.Speedtest()\n",
        "    # Try setting a user agent\n",
        "    st.user_agent = 'Mozilla/5.0 (Windows NT 10.0; Win64; x64) AppleWebKit/537.36 (KHTML, like Gecko) Chrome/114.0.0.0 Safari/537.36'\n",
        "    servers = st.get_servers([])  # Get list of servers\n",
        "    best_server = list(servers.values())[0][0]  # Select a server manually\n",
        "\n",
        "    st.get_best_server()\n",
        "    download_speed = st.download() / 1_000_000\n",
        "    upload_speed = st.upload() / 1_000_000\n",
        "\n",
        "    print(f\"Download Speed: {download_speed:.2f} Mbps\")\n",
        "    print(f\"Upload Speed: {upload_speed:.2f} Mbps\")\n",
        "\n",
        "Check_Speed()"
      ],
      "metadata": {
        "colab": {
          "base_uri": "https://localhost:8080/"
        },
        "id": "mIcVeDw2pzy_",
        "outputId": "3c3fca36-30f6-43f3-94a9-d4bc7e27d20f"
      },
      "execution_count": 6,
      "outputs": [
        {
          "output_type": "stream",
          "name": "stdout",
          "text": [
            "Download Speed: 2639.02 Mbps\n",
            "Upload Speed: 870.08 Mbps\n"
          ]
        }
      ]
    }
  ]
}